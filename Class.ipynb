{
 "cells": [
  {
   "cell_type": "markdown",
   "id": "31aedbb2",
   "metadata": {},
   "source": [
    "# Simple Class Declaration"
   ]
  },
  {
   "cell_type": "code",
   "execution_count": 1,
   "id": "3cac2494",
   "metadata": {},
   "outputs": [
    {
     "name": "stdout",
     "output_type": "stream",
     "text": [
      "Amit Kumar Singh 36 Male Maths\n",
      "None\n"
     ]
    }
   ],
   "source": [
    "class Teacher:\n",
    "    def __init__(self,name,age,sex,subject):\n",
    "        Teacher.name=name\n",
    "        Teacher.age=age\n",
    "        Teacher.sex=sex\n",
    "        Teacher.subject=subject\n",
    "        \n",
    "    def show1(self1):\n",
    "        print (self1.name,self1.age,self1.sex,self1.subject)\n",
    "    \n",
    "p1=Teacher(\"Amit Kumar Singh\",36,\"Male\",\"Maths\")\n",
    "\n",
    "print(p1.show1())"
   ]
  },
  {
   "cell_type": "markdown",
   "id": "dd1dd412",
   "metadata": {},
   "source": [
    "# Inheritance in Python Class"
   ]
  },
  {
   "cell_type": "code",
   "execution_count": 2,
   "id": "80b5e789",
   "metadata": {},
   "outputs": [
    {
     "name": "stdout",
     "output_type": "stream",
     "text": [
      "Amit Kumar Singh 36 Male Maths\n",
      "None\n"
     ]
    }
   ],
   "source": [
    "class Teacher:\n",
    "    def __init__(self,name,age,sex,subject):\n",
    "        Teacher.name=name\n",
    "        Teacher.age=age\n",
    "        Teacher.sex=sex\n",
    "        Teacher.subject=subject\n",
    "        \n",
    "    def show1(self1):\n",
    "        print (self1.name,self1.age,self1.sex,self1.subject)\n",
    "        \n",
    "class Tester(Teacher):\n",
    "    pass\n",
    "    \n",
    "p1=Tester(\"Amit Kumar Singh\",36,\"Male\",\"Maths\")\n",
    "\n",
    "print(p1.show1())"
   ]
  },
  {
   "cell_type": "markdown",
   "id": "15dd5d14",
   "metadata": {},
   "source": [
    "# Polymorphism in Pyhon Class"
   ]
  },
  {
   "cell_type": "code",
   "execution_count": 3,
   "id": "20539abc",
   "metadata": {},
   "outputs": [
    {
     "name": "stdout",
     "output_type": "stream",
     "text": [
      "New Delhi\n",
      "Hindi and English\n",
      "None None\n",
      "New York\n",
      "Hindi and English\n",
      "None None\n"
     ]
    }
   ],
   "source": [
    "class india():\n",
    "    def capital(self):\n",
    "        print(\"New Delhi\")\n",
    "        \n",
    "    def language(self):\n",
    "        print(\"Hindi and English\")\n",
    "\n",
    "\n",
    "class USA():\n",
    "    def capital(self):\n",
    "        print(\"New York\")\n",
    "    \n",
    "    def laguage(self):\n",
    "        print(\"English\")\n",
    "        \n",
    "obj_1=india()\n",
    "obj_2=USA()\n",
    "print(obj_1.capital(),obj_1.language())\n",
    "print(obj_2.capital(),obj_1.language())"
   ]
  },
  {
   "cell_type": "code",
   "execution_count": 100,
   "id": "10f7d5e9",
   "metadata": {},
   "outputs": [],
   "source": [
    "x={\"Amit\":2256,\"sumit\":2358,\"anita\":2286}"
   ]
  },
  {
   "cell_type": "code",
   "execution_count": 9,
   "id": "e8994b72",
   "metadata": {},
   "outputs": [
    {
     "data": {
      "text/plain": [
       "dict_values([2256, 2358, 2286])"
      ]
     },
     "execution_count": 9,
     "metadata": {},
     "output_type": "execute_result"
    }
   ],
   "source": [
    "x.values()"
   ]
  },
  {
   "cell_type": "code",
   "execution_count": 10,
   "id": "2fe8bfc2",
   "metadata": {},
   "outputs": [
    {
     "data": {
      "text/plain": [
       "dict_keys(['Amit', 'sumit', 'anita'])"
      ]
     },
     "execution_count": 10,
     "metadata": {},
     "output_type": "execute_result"
    }
   ],
   "source": [
    "x.keys()"
   ]
  },
  {
   "cell_type": "code",
   "execution_count": 12,
   "id": "4e668f99",
   "metadata": {},
   "outputs": [
    {
     "data": {
      "text/plain": [
       "dict_items([('Amit', 2256), ('sumit', 2358), ('anita', 2286)])"
      ]
     },
     "execution_count": 12,
     "metadata": {},
     "output_type": "execute_result"
    }
   ],
   "source": [
    "x.items()"
   ]
  },
  {
   "cell_type": "code",
   "execution_count": 76,
   "id": "d68978b0",
   "metadata": {},
   "outputs": [
    {
     "data": {
      "text/plain": [
       "['Amit', 'sumit', 'anita']"
      ]
     },
     "execution_count": 76,
     "metadata": {},
     "output_type": "execute_result"
    }
   ],
   "source": [
    "y='Amit'\n",
    "z=list(x.keys())\n",
    "z"
   ]
  },
  {
   "cell_type": "code",
   "execution_count": 95,
   "id": "91d3aeb1",
   "metadata": {},
   "outputs": [],
   "source": []
  },
  {
   "cell_type": "code",
   "execution_count": 96,
   "id": "c17eabff",
   "metadata": {},
   "outputs": [
    {
     "data": {
      "text/plain": [
       "'Amit'"
      ]
     },
     "execution_count": 96,
     "metadata": {},
     "output_type": "execute_result"
    }
   ],
   "source": [
    "z[i]"
   ]
  },
  {
   "cell_type": "code",
   "execution_count": 98,
   "id": "50c80a44",
   "metadata": {},
   "outputs": [
    {
     "data": {
      "text/plain": [
       "('anita', '', '')"
      ]
     },
     "execution_count": 98,
     "metadata": {},
     "output_type": "execute_result"
    }
   ],
   "source": [
    "x.partition('Amit')"
   ]
  },
  {
   "cell_type": "code",
   "execution_count": 99,
   "id": "ead73e16",
   "metadata": {},
   "outputs": [
    {
     "ename": "AttributeError",
     "evalue": "'str' object has no attribute 'search'",
     "output_type": "error",
     "traceback": [
      "\u001b[1;31m---------------------------------------------------------------------------\u001b[0m",
      "\u001b[1;31mAttributeError\u001b[0m                            Traceback (most recent call last)",
      "\u001b[1;32m<ipython-input-99-f3b4f052a7bc>\u001b[0m in \u001b[0;36m<module>\u001b[1;34m\u001b[0m\n\u001b[1;32m----> 1\u001b[1;33m \u001b[0mx\u001b[0m\u001b[1;33m.\u001b[0m\u001b[0msearch\u001b[0m\u001b[1;33m(\u001b[0m\u001b[1;34m'Amit'\u001b[0m\u001b[1;33m)\u001b[0m\u001b[1;33m\u001b[0m\u001b[1;33m\u001b[0m\u001b[0m\n\u001b[0m",
      "\u001b[1;31mAttributeError\u001b[0m: 'str' object has no attribute 'search'"
     ]
    }
   ],
   "source": [
    "x.search('Amit')"
   ]
  },
  {
   "cell_type": "code",
   "execution_count": 102,
   "id": "327b563f",
   "metadata": {},
   "outputs": [
    {
     "data": {
      "text/plain": [
       "('anita', 2286)"
      ]
     },
     "execution_count": 102,
     "metadata": {},
     "output_type": "execute_result"
    }
   ],
   "source": [
    "x.popitem()"
   ]
  },
  {
   "cell_type": "code",
   "execution_count": 103,
   "id": "778cffb3",
   "metadata": {},
   "outputs": [
    {
     "data": {
      "text/plain": [
       "{'A': None, 'm': None, 'i': None, 't': None}"
      ]
     },
     "execution_count": 103,
     "metadata": {},
     "output_type": "execute_result"
    }
   ],
   "source": [
    "x.fromkeys('Amit')"
   ]
  },
  {
   "cell_type": "code",
   "execution_count": 104,
   "id": "ea909097",
   "metadata": {},
   "outputs": [
    {
     "data": {
      "text/plain": [
       "2256"
      ]
     },
     "execution_count": 104,
     "metadata": {},
     "output_type": "execute_result"
    }
   ],
   "source": [
    "x.get('Amit')"
   ]
  },
  {
   "cell_type": "code",
   "execution_count": 107,
   "id": "09a55c35",
   "metadata": {},
   "outputs": [],
   "source": [
    "x.get('2286')"
   ]
  },
  {
   "cell_type": "code",
   "execution_count": 108,
   "id": "aa6a5da7",
   "metadata": {},
   "outputs": [
    {
     "data": {
      "text/plain": [
       "('sumit', 2358)"
      ]
     },
     "execution_count": 108,
     "metadata": {},
     "output_type": "execute_result"
    }
   ],
   "source": [
    "x.popitem()"
   ]
  },
  {
   "cell_type": "code",
   "execution_count": 109,
   "id": "8077a44f",
   "metadata": {},
   "outputs": [
    {
     "data": {
      "text/plain": [
       "{'Amit': 2256}"
      ]
     },
     "execution_count": 109,
     "metadata": {},
     "output_type": "execute_result"
    }
   ],
   "source": [
    "x"
   ]
  },
  {
   "cell_type": "code",
   "execution_count": 112,
   "id": "fced5721",
   "metadata": {},
   "outputs": [
    {
     "ename": "KeyError",
     "evalue": "'popitem(): dictionary is empty'",
     "output_type": "error",
     "traceback": [
      "\u001b[1;31m---------------------------------------------------------------------------\u001b[0m",
      "\u001b[1;31mKeyError\u001b[0m                                  Traceback (most recent call last)",
      "\u001b[1;32m<ipython-input-112-5d5e4e357672>\u001b[0m in \u001b[0;36m<module>\u001b[1;34m\u001b[0m\n\u001b[1;32m----> 1\u001b[1;33m \u001b[0mx\u001b[0m\u001b[1;33m.\u001b[0m\u001b[0mpopitem\u001b[0m\u001b[1;33m(\u001b[0m\u001b[1;33m)\u001b[0m\u001b[1;33m.\u001b[0m\u001b[0mx\u001b[0m\u001b[1;33m.\u001b[0m\u001b[0mkeys\u001b[0m\u001b[1;33m[\u001b[0m\u001b[1;34m'Amit'\u001b[0m\u001b[1;33m]\u001b[0m\u001b[1;33m\u001b[0m\u001b[1;33m\u001b[0m\u001b[0m\n\u001b[0m",
      "\u001b[1;31mKeyError\u001b[0m: 'popitem(): dictionary is empty'"
     ]
    }
   ],
   "source": [
    "x.popitem().\n",
    "x.keys['Amit']"
   ]
  },
  {
   "cell_type": "code",
   "execution_count": null,
   "id": "000591b4",
   "metadata": {},
   "outputs": [],
   "source": []
  }
 ],
 "metadata": {
  "kernelspec": {
   "display_name": "Python 3",
   "language": "python",
   "name": "python3"
  },
  "language_info": {
   "codemirror_mode": {
    "name": "ipython",
    "version": 3
   },
   "file_extension": ".py",
   "mimetype": "text/x-python",
   "name": "python",
   "nbconvert_exporter": "python",
   "pygments_lexer": "ipython3",
   "version": "3.8.8"
  }
 },
 "nbformat": 4,
 "nbformat_minor": 5
}
