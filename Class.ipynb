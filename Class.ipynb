{
 "cells": [
  {
   "cell_type": "markdown",
   "id": "31aedbb2",
   "metadata": {},
   "source": [
    "# Simple Class Declaration"
   ]
  },
  {
   "cell_type": "code",
   "execution_count": 1,
   "id": "3cac2494",
   "metadata": {},
   "outputs": [
    {
     "name": "stdout",
     "output_type": "stream",
     "text": [
      "Amit Kumar Singh 36 Male Maths\n",
      "None\n"
     ]
    }
   ],
   "source": [
    "class Teacher:\n",
    "    def __init__(self,name,age,sex,subject):\n",
    "        Teacher.name=name\n",
    "        Teacher.age=age\n",
    "        Teacher.sex=sex\n",
    "        Teacher.subject=subject\n",
    "        \n",
    "    def show1(self1):\n",
    "        print (self1.name,self1.age,self1.sex,self1.subject)\n",
    "    \n",
    "p1=Teacher(\"Amit Kumar Singh\",36,\"Male\",\"Maths\")\n",
    "\n",
    "print(p1.show1())"
   ]
  },
  {
   "cell_type": "markdown",
   "id": "dd1dd412",
   "metadata": {},
   "source": [
    "# Inheritance in Python Class"
   ]
  },
  {
   "cell_type": "code",
   "execution_count": 2,
   "id": "80b5e789",
   "metadata": {},
   "outputs": [
    {
     "name": "stdout",
     "output_type": "stream",
     "text": [
      "Amit Kumar Singh 36 Male Maths\n",
      "None\n"
     ]
    }
   ],
   "source": [
    "class Teacher:\n",
    "    def __init__(self,name,age,sex,subject):\n",
    "        Teacher.name=name\n",
    "        Teacher.age=age\n",
    "        Teacher.sex=sex\n",
    "        Teacher.subject=subject\n",
    "        \n",
    "    def show1(self1):\n",
    "        print (self1.name,self1.age,self1.sex,self1.subject)\n",
    "        \n",
    "class Tester(Teacher):\n",
    "    pass\n",
    "    \n",
    "p1=Tester(\"Amit Kumar Singh\",36,\"Male\",\"Maths\")\n",
    "\n",
    "print(p1.show1())"
   ]
  },
  {
   "cell_type": "markdown",
   "id": "15dd5d14",
   "metadata": {},
   "source": [
    "# Polymorphism in Pyhon Class"
   ]
  },
  {
   "cell_type": "code",
   "execution_count": 3,
   "id": "20539abc",
   "metadata": {},
   "outputs": [
    {
     "name": "stdout",
     "output_type": "stream",
     "text": [
      "New Delhi\n",
      "Hindi and English\n",
      "None None\n",
      "New York\n",
      "Hindi and English\n",
      "None None\n"
     ]
    }
   ],
   "source": [
    "class india():\n",
    "    def capital(self):\n",
    "        print(\"New Delhi\")\n",
    "        \n",
    "    def language(self):\n",
    "        print(\"Hindi and English\")\n",
    "\n",
    "\n",
    "class USA():\n",
    "    def capital(self):\n",
    "        print(\"New York\")\n",
    "    \n",
    "    def laguage(self):\n",
    "        print(\"English\")\n",
    "        \n",
    "obj_1=india()\n",
    "obj_2=USA()\n",
    "print(obj_1.capital(),obj_1.language())\n",
    "print(obj_2.capital(),obj_1.language())"
   ]
  }
 ],
 "metadata": {
  "kernelspec": {
   "display_name": "Python 3",
   "language": "python",
   "name": "python3"
  },
  "language_info": {
   "codemirror_mode": {
    "name": "ipython",
    "version": 3
   },
   "file_extension": ".py",
   "mimetype": "text/x-python",
   "name": "python",
   "nbconvert_exporter": "python",
   "pygments_lexer": "ipython3",
   "version": "3.8.8"
  }
 },
 "nbformat": 4,
 "nbformat_minor": 5
}
