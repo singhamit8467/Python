{
 "cells": [
  {
   "cell_type": "code",
   "execution_count": 1,
   "id": "61b6755e",
   "metadata": {},
   "outputs": [],
   "source": [
    "x={1,2,3,0.3,98,21}"
   ]
  },
  {
   "cell_type": "code",
   "execution_count": 2,
   "id": "fac02c6c",
   "metadata": {},
   "outputs": [
    {
     "data": {
      "text/plain": [
       "{0.3, 1, 2, 3, 21, 98}"
      ]
     },
     "execution_count": 2,
     "metadata": {},
     "output_type": "execute_result"
    }
   ],
   "source": [
    "x"
   ]
  },
  {
   "cell_type": "code",
   "execution_count": 8,
   "id": "16a817a8",
   "metadata": {},
   "outputs": [],
   "source": [
    "x.update({111})"
   ]
  },
  {
   "cell_type": "code",
   "execution_count": 9,
   "id": "f9645b00",
   "metadata": {},
   "outputs": [
    {
     "data": {
      "text/plain": [
       "{0.3, 1, 2, 3, 21, 98, 111}"
      ]
     },
     "execution_count": 9,
     "metadata": {},
     "output_type": "execute_result"
    }
   ],
   "source": [
    "x"
   ]
  },
  {
   "cell_type": "code",
   "execution_count": 10,
   "id": "dd2f612e",
   "metadata": {},
   "outputs": [],
   "source": [
    "x.clear()"
   ]
  },
  {
   "cell_type": "code",
   "execution_count": 11,
   "id": "b8b17338",
   "metadata": {},
   "outputs": [
    {
     "data": {
      "text/plain": [
       "set()"
      ]
     },
     "execution_count": 11,
     "metadata": {},
     "output_type": "execute_result"
    }
   ],
   "source": [
    "x"
   ]
  },
  {
   "cell_type": "code",
   "execution_count": 12,
   "id": "c04cb70d",
   "metadata": {},
   "outputs": [],
   "source": [
    "x={1,2,3,0.3,98,21}"
   ]
  },
  {
   "cell_type": "code",
   "execution_count": 15,
   "id": "20b6e3e0",
   "metadata": {},
   "outputs": [],
   "source": [
    "y={1,2,3,4,5,6}"
   ]
  },
  {
   "cell_type": "code",
   "execution_count": 16,
   "id": "3fce7c06",
   "metadata": {},
   "outputs": [
    {
     "data": {
      "text/plain": [
       "{0.3, 1, 2, 3, 4, 5, 6, 21, 98}"
      ]
     },
     "execution_count": 16,
     "metadata": {},
     "output_type": "execute_result"
    }
   ],
   "source": [
    "x.union(y)"
   ]
  },
  {
   "cell_type": "code",
   "execution_count": 17,
   "id": "3fd558c2",
   "metadata": {},
   "outputs": [
    {
     "data": {
      "text/plain": [
       "{1, 2, 3}"
      ]
     },
     "execution_count": 17,
     "metadata": {},
     "output_type": "execute_result"
    }
   ],
   "source": [
    "x.intersection(y)"
   ]
  },
  {
   "cell_type": "code",
   "execution_count": 18,
   "id": "5f757227",
   "metadata": {},
   "outputs": [],
   "source": [
    "x.update('Amit Kumar Singh')"
   ]
  },
  {
   "cell_type": "code",
   "execution_count": 20,
   "id": "c9e7ddb5",
   "metadata": {},
   "outputs": [
    {
     "data": {
      "text/plain": [
       "0.3"
      ]
     },
     "execution_count": 20,
     "metadata": {},
     "output_type": "execute_result"
    }
   ],
   "source": [
    "x.pop()"
   ]
  },
  {
   "cell_type": "code",
   "execution_count": 22,
   "id": "b264a0e9",
   "metadata": {},
   "outputs": [],
   "source": [
    "x.clear()"
   ]
  },
  {
   "cell_type": "code",
   "execution_count": 23,
   "id": "55e3cf73",
   "metadata": {},
   "outputs": [],
   "source": [
    "x={1,2,3,0.3,98,21}\n",
    "y={1,2,3,4,5,6}"
   ]
  },
  {
   "cell_type": "code",
   "execution_count": 24,
   "id": "4d527897",
   "metadata": {},
   "outputs": [
    {
     "data": {
      "text/plain": [
       "{0.3, 4, 5, 6, 21, 98}"
      ]
     },
     "execution_count": 24,
     "metadata": {},
     "output_type": "execute_result"
    }
   ],
   "source": [
    "x.symmetric_difference(y)"
   ]
  },
  {
   "cell_type": "code",
   "execution_count": 25,
   "id": "a7c150b8",
   "metadata": {},
   "outputs": [
    {
     "data": {
      "text/plain": [
       "{0.3, 21, 98}"
      ]
     },
     "execution_count": 25,
     "metadata": {},
     "output_type": "execute_result"
    }
   ],
   "source": [
    "x.difference(y)"
   ]
  },
  {
   "cell_type": "code",
   "execution_count": 27,
   "id": "902bdcae",
   "metadata": {},
   "outputs": [
    {
     "data": {
      "text/plain": [
       "<function set.discard>"
      ]
     },
     "execution_count": 27,
     "metadata": {},
     "output_type": "execute_result"
    }
   ],
   "source": [
    "x.discard"
   ]
  },
  {
   "cell_type": "code",
   "execution_count": 28,
   "id": "4f34e98b",
   "metadata": {},
   "outputs": [
    {
     "data": {
      "text/plain": [
       "{0.3, 1, 2, 3, 21, 98}"
      ]
     },
     "execution_count": 28,
     "metadata": {},
     "output_type": "execute_result"
    }
   ],
   "source": [
    "x"
   ]
  },
  {
   "cell_type": "code",
   "execution_count": 32,
   "id": "40024c7c",
   "metadata": {},
   "outputs": [
    {
     "data": {
      "text/plain": [
       "<function set.discard>"
      ]
     },
     "execution_count": 32,
     "metadata": {},
     "output_type": "execute_result"
    }
   ],
   "source": [
    "x.discard"
   ]
  },
  {
   "cell_type": "code",
   "execution_count": 33,
   "id": "d0ea9f1b",
   "metadata": {},
   "outputs": [
    {
     "data": {
      "text/plain": [
       "{0.3, 1, 2, 3, 21, 98}"
      ]
     },
     "execution_count": 33,
     "metadata": {},
     "output_type": "execute_result"
    }
   ],
   "source": [
    "x"
   ]
  },
  {
   "cell_type": "code",
   "execution_count": 34,
   "id": "cccdd699",
   "metadata": {},
   "outputs": [
    {
     "data": {
      "text/plain": [
       "0.3"
      ]
     },
     "execution_count": 34,
     "metadata": {},
     "output_type": "execute_result"
    }
   ],
   "source": [
    "x.pop()"
   ]
  },
  {
   "cell_type": "code",
   "execution_count": 35,
   "id": "5baa91d7",
   "metadata": {},
   "outputs": [
    {
     "data": {
      "text/plain": [
       "{1, 2, 3, 21, 98}"
      ]
     },
     "execution_count": 35,
     "metadata": {},
     "output_type": "execute_result"
    }
   ],
   "source": [
    "x"
   ]
  },
  {
   "cell_type": "code",
   "execution_count": 36,
   "id": "5f822a65",
   "metadata": {},
   "outputs": [],
   "source": [
    "x.remove(98)"
   ]
  },
  {
   "cell_type": "code",
   "execution_count": 37,
   "id": "64f806a1",
   "metadata": {},
   "outputs": [
    {
     "data": {
      "text/plain": [
       "{1, 2, 3, 21}"
      ]
     },
     "execution_count": 37,
     "metadata": {},
     "output_type": "execute_result"
    }
   ],
   "source": [
    "x"
   ]
  },
  {
   "cell_type": "code",
   "execution_count": 38,
   "id": "5b9d1b6f",
   "metadata": {},
   "outputs": [],
   "source": [
    "x.discard(2)"
   ]
  },
  {
   "cell_type": "code",
   "execution_count": 39,
   "id": "a96f5e19",
   "metadata": {},
   "outputs": [
    {
     "data": {
      "text/plain": [
       "{1, 3, 21}"
      ]
     },
     "execution_count": 39,
     "metadata": {},
     "output_type": "execute_result"
    }
   ],
   "source": [
    "x"
   ]
  },
  {
   "cell_type": "code",
   "execution_count": 40,
   "id": "f9ee624f",
   "metadata": {},
   "outputs": [],
   "source": [
    "x.update(y)"
   ]
  },
  {
   "cell_type": "code",
   "execution_count": 41,
   "id": "a85f443a",
   "metadata": {},
   "outputs": [
    {
     "data": {
      "text/plain": [
       "{1, 2, 3, 4, 5, 6, 21}"
      ]
     },
     "execution_count": 41,
     "metadata": {},
     "output_type": "execute_result"
    }
   ],
   "source": [
    "x"
   ]
  },
  {
   "cell_type": "code",
   "execution_count": null,
   "id": "80206767",
   "metadata": {},
   "outputs": [],
   "source": []
  }
 ],
 "metadata": {
  "kernelspec": {
   "display_name": "Python 3",
   "language": "python",
   "name": "python3"
  },
  "language_info": {
   "codemirror_mode": {
    "name": "ipython",
    "version": 3
   },
   "file_extension": ".py",
   "mimetype": "text/x-python",
   "name": "python",
   "nbconvert_exporter": "python",
   "pygments_lexer": "ipython3",
   "version": "3.8.8"
  }
 },
 "nbformat": 4,
 "nbformat_minor": 5
}
