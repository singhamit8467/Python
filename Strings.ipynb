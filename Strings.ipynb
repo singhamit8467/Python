{
 "cells": [
  {
   "cell_type": "code",
   "execution_count": 1,
   "id": "741a1f1c",
   "metadata": {},
   "outputs": [],
   "source": [
    "# String Declaration\n",
    "x='amit kumar singh'"
   ]
  },
  {
   "cell_type": "code",
   "execution_count": 2,
   "id": "70fe9b89",
   "metadata": {},
   "outputs": [
    {
     "data": {
      "text/plain": [
       "str"
      ]
     },
     "execution_count": 2,
     "metadata": {},
     "output_type": "execute_result"
    }
   ],
   "source": [
    "# Data Type String\n",
    "type(x)"
   ]
  },
  {
   "cell_type": "code",
   "execution_count": 3,
   "id": "f3bd6172",
   "metadata": {},
   "outputs": [
    {
     "data": {
      "text/plain": [
       "'Amit kumar singh'"
      ]
     },
     "execution_count": 3,
     "metadata": {},
     "output_type": "execute_result"
    }
   ],
   "source": [
    "# Capitalize Form of String\n",
    "x.capitalize()"
   ]
  },
  {
   "cell_type": "code",
   "execution_count": 4,
   "id": "695cbe96",
   "metadata": {},
   "outputs": [
    {
     "data": {
      "text/plain": [
       "'amit kumar singh'"
      ]
     },
     "execution_count": 4,
     "metadata": {},
     "output_type": "execute_result"
    }
   ],
   "source": [
    "# Changing the Case of String\n",
    "x.casefold()"
   ]
  },
  {
   "cell_type": "code",
   "execution_count": 5,
   "id": "5d4230fd",
   "metadata": {},
   "outputs": [
    {
     "data": {
      "text/plain": [
       "16"
      ]
     },
     "execution_count": 5,
     "metadata": {},
     "output_type": "execute_result"
    }
   ],
   "source": [
    "# Length of the String (Number of Words)\n",
    "len(x)"
   ]
  },
  {
   "cell_type": "code",
   "execution_count": 6,
   "id": "819d4ae3",
   "metadata": {},
   "outputs": [
    {
     "data": {
      "text/plain": [
       "b'amit kumar singh'"
      ]
     },
     "execution_count": 6,
     "metadata": {},
     "output_type": "execute_result"
    }
   ],
   "source": [
    "x.encode()"
   ]
  },
  {
   "cell_type": "code",
   "execution_count": 7,
   "id": "015db533",
   "metadata": {},
   "outputs": [
    {
     "data": {
      "text/plain": [
       "'amit kumar singh'"
      ]
     },
     "execution_count": 7,
     "metadata": {},
     "output_type": "execute_result"
    }
   ],
   "source": [
    "# Print String x\n",
    "x"
   ]
  },
  {
   "cell_type": "code",
   "execution_count": 8,
   "id": "f7dc1dfb",
   "metadata": {},
   "outputs": [
    {
     "data": {
      "text/plain": [
       "0"
      ]
     },
     "execution_count": 8,
     "metadata": {},
     "output_type": "execute_result"
    }
   ],
   "source": [
    "# Find the position of the word in the String\n",
    "x.find('amit')"
   ]
  },
  {
   "cell_type": "code",
   "execution_count": 9,
   "id": "1db681d9",
   "metadata": {},
   "outputs": [
    {
     "data": {
      "text/plain": [
       "'amit kumar singh'"
      ]
     },
     "execution_count": 9,
     "metadata": {},
     "output_type": "execute_result"
    }
   ],
   "source": [
    "x"
   ]
  },
  {
   "cell_type": "code",
   "execution_count": 10,
   "id": "f0472bee",
   "metadata": {},
   "outputs": [
    {
     "data": {
      "text/plain": [
       "False"
      ]
     },
     "execution_count": 10,
     "metadata": {},
     "output_type": "execute_result"
    }
   ],
   "source": [
    "# Condition check is String in Alpha-Numeric\n",
    "x.isalpha()"
   ]
  },
  {
   "cell_type": "code",
   "execution_count": 11,
   "id": "c8eea09a",
   "metadata": {},
   "outputs": [
    {
     "data": {
      "text/plain": [
       "True"
      ]
     },
     "execution_count": 11,
     "metadata": {},
     "output_type": "execute_result"
    }
   ],
   "source": [
    "# Condition Check is String in ASCII Code\n",
    "x.isascii()"
   ]
  },
  {
   "cell_type": "code",
   "execution_count": 12,
   "id": "9d2d0148",
   "metadata": {},
   "outputs": [
    {
     "data": {
      "text/plain": [
       "'000000000amit kumar singh'"
      ]
     },
     "execution_count": 12,
     "metadata": {},
     "output_type": "execute_result"
    }
   ],
   "source": [
    "# Increase the Length of String using Zero Fill\n",
    "x.zfill(25)"
   ]
  },
  {
   "cell_type": "code",
   "execution_count": 13,
   "id": "2302bf09",
   "metadata": {},
   "outputs": [
    {
     "data": {
      "text/plain": [
       "25"
      ]
     },
     "execution_count": 13,
     "metadata": {},
     "output_type": "execute_result"
    }
   ],
   "source": [
    "# Check the length after Zero Fill\n",
    "len(x.zfill(25))"
   ]
  },
  {
   "cell_type": "code",
   "execution_count": 14,
   "id": "217c66a2",
   "metadata": {},
   "outputs": [
    {
     "data": {
      "text/plain": [
       "['amit', 'kumar', 'singh']"
      ]
     },
     "execution_count": 14,
     "metadata": {},
     "output_type": "execute_result"
    }
   ],
   "source": [
    "# Change String to List\n",
    "x.split(' ')"
   ]
  },
  {
   "cell_type": "code",
   "execution_count": 15,
   "id": "44710ec4",
   "metadata": {},
   "outputs": [
    {
     "data": {
      "text/plain": [
       "'amit kumar singh'"
      ]
     },
     "execution_count": 15,
     "metadata": {},
     "output_type": "execute_result"
    }
   ],
   "source": [
    "x"
   ]
  },
  {
   "cell_type": "code",
   "execution_count": 16,
   "id": "82e63be8",
   "metadata": {},
   "outputs": [
    {
     "data": {
      "text/plain": [
       "'AMIT KUMAR SINGH'"
      ]
     },
     "execution_count": 16,
     "metadata": {},
     "output_type": "execute_result"
    }
   ],
   "source": [
    "# Upper Case\n",
    "x.upper()"
   ]
  },
  {
   "cell_type": "code",
   "execution_count": 17,
   "id": "ab398c45",
   "metadata": {},
   "outputs": [
    {
     "data": {
      "text/plain": [
       "'amit kumar singh'"
      ]
     },
     "execution_count": 17,
     "metadata": {},
     "output_type": "execute_result"
    }
   ],
   "source": [
    "# Change the case\n",
    "x.casefold()"
   ]
  },
  {
   "cell_type": "code",
   "execution_count": 18,
   "id": "ab562fa6",
   "metadata": {},
   "outputs": [
    {
     "name": "stdout",
     "output_type": "stream",
     "text": [
      "Enter the First & Last Name of the User format :: a,bamit,kumar\n",
      "First Name is amit \n",
      " Last Name is kumar\n"
     ]
    }
   ],
   "source": [
    "# Input Function with String Data Type\n",
    "a,b=str(input(\"Enter the First & Last Name of the User format :: a,b\")).split(',')\n",
    "print(f'First Name is {a} \\n Last Name is {b}')"
   ]
  },
  {
   "cell_type": "code",
   "execution_count": 19,
   "id": "d48d5519",
   "metadata": {},
   "outputs": [
    {
     "data": {
      "text/plain": [
       "('am', 'i', 't kumar singh')"
      ]
     },
     "execution_count": 19,
     "metadata": {},
     "output_type": "execute_result"
    }
   ],
   "source": [
    "# Partitioning of String using partition\n",
    "x.partition('i')"
   ]
  },
  {
   "cell_type": "code",
   "execution_count": 20,
   "id": "15e71381",
   "metadata": {},
   "outputs": [
    {
     "data": {
      "text/plain": [
       "('amit kumar s', 'i', 'ngh')"
      ]
     },
     "execution_count": 20,
     "metadata": {},
     "output_type": "execute_result"
    }
   ],
   "source": [
    "# Partition of String using Reverse Partition\n",
    "x.rpartition('i')"
   ]
  },
  {
   "cell_type": "code",
   "execution_count": 21,
   "id": "0db01693",
   "metadata": {},
   "outputs": [
    {
     "data": {
      "text/plain": [
       "<function str.index>"
      ]
     },
     "execution_count": 21,
     "metadata": {},
     "output_type": "execute_result"
    }
   ],
   "source": [
    "# Creating String Index\n",
    "x.index"
   ]
  },
  {
   "cell_type": "code",
   "execution_count": 22,
   "id": "8b955231",
   "metadata": {},
   "outputs": [
    {
     "data": {
      "text/plain": [
       "0"
      ]
     },
     "execution_count": 22,
     "metadata": {},
     "output_type": "execute_result"
    }
   ],
   "source": [
    "# Starting Position of search word\n",
    "x.index('amit')"
   ]
  },
  {
   "cell_type": "code",
   "execution_count": 23,
   "id": "61c298d4",
   "metadata": {},
   "outputs": [
    {
     "data": {
      "text/plain": [
       "11"
      ]
     },
     "execution_count": 23,
     "metadata": {},
     "output_type": "execute_result"
    }
   ],
   "source": [
    "# Start Position of search word\n",
    "x.index('singh')"
   ]
  },
  {
   "cell_type": "code",
   "execution_count": 24,
   "id": "89cd2ba3",
   "metadata": {},
   "outputs": [
    {
     "data": {
      "text/plain": [
       "['amit kumar singh']"
      ]
     },
     "execution_count": 24,
     "metadata": {},
     "output_type": "execute_result"
    }
   ],
   "source": [
    "# Splitlines one line Character String\n",
    "x.splitlines()"
   ]
  },
  {
   "cell_type": "code",
   "execution_count": 25,
   "id": "a4aeb98c",
   "metadata": {},
   "outputs": [
    {
     "data": {
      "text/plain": [
       "['amit', 'kumar', 'singh']"
      ]
     },
     "execution_count": 25,
     "metadata": {},
     "output_type": "execute_result"
    }
   ],
   "source": [
    "# Splitting List, Converting String to List\n",
    "x.split()"
   ]
  },
  {
   "cell_type": "code",
   "execution_count": 26,
   "id": "ebcbfb6f",
   "metadata": {},
   "outputs": [],
   "source": [
    "y=('Amit \\n Kumar \\n Singh')"
   ]
  },
  {
   "cell_type": "code",
   "execution_count": 27,
   "id": "1c0140f0",
   "metadata": {},
   "outputs": [
    {
     "data": {
      "text/plain": [
       "['Amit ', ' Kumar ', ' Singh']"
      ]
     },
     "execution_count": 27,
     "metadata": {},
     "output_type": "execute_result"
    }
   ],
   "source": [
    "# Splitting Lines of Multi Line Character String\n",
    "y.splitlines()"
   ]
  }
 ],
 "metadata": {
  "kernelspec": {
   "display_name": "Python 3",
   "language": "python",
   "name": "python3"
  },
  "language_info": {
   "codemirror_mode": {
    "name": "ipython",
    "version": 3
   },
   "file_extension": ".py",
   "mimetype": "text/x-python",
   "name": "python",
   "nbconvert_exporter": "python",
   "pygments_lexer": "ipython3",
   "version": "3.8.8"
  }
 },
 "nbformat": 4,
 "nbformat_minor": 5
}
